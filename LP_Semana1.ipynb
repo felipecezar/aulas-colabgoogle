{
  "nbformat": 4,
  "nbformat_minor": 0,
  "metadata": {
    "colab": {
      "name": "LP-Semana1.ipynb",
      "provenance": [],
      "collapsed_sections": [],
      "authorship_tag": "ABX9TyOUfy5i6/dtuTEoi5rrEzfP",
      "include_colab_link": true
    },
    "kernelspec": {
      "name": "python3",
      "display_name": "Python 3"
    }
  },
  "cells": [
    {
      "cell_type": "markdown",
      "metadata": {
        "id": "view-in-github",
        "colab_type": "text"
      },
      "source": [
        "<a href=\"https://colab.research.google.com/github/felipecezar/aulas-colabgoogle/blob/master/LP_Semana1.ipynb\" target=\"_parent\"><img src=\"https://colab.research.google.com/assets/colab-badge.svg\" alt=\"Open In Colab\"/></a>"
      ]
    },
    {
      "cell_type": "markdown",
      "metadata": {
        "id": "b63KI516JvtL",
        "colab_type": "text"
      },
      "source": [
        "#Variáveis\n"
      ]
    },
    {
      "cell_type": "code",
      "metadata": {
        "id": "NCOZZAFqJ3V1",
        "colab_type": "code",
        "colab": {}
      },
      "source": [
        "idade = 21\n",
        "pi = 3.14\n",
        "nome = 'João'\n",
        "solteiro = False"
      ],
      "execution_count": null,
      "outputs": []
    }
  ]
}